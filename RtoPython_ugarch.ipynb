{
 "cells": [
  {
   "cell_type": "markdown",
   "metadata": {},
   "source": [
    "# use r-packages in python"
   ]
  },
  {
   "cell_type": "markdown",
   "metadata": {},
   "source": [
    "## install packages"
   ]
  },
  {
   "cell_type": "code",
   "execution_count": 1,
   "metadata": {},
   "outputs": [],
   "source": [
    "#import rpy2.robjects.packages as rpackages"
   ]
  },
  {
   "cell_type": "code",
   "execution_count": 2,
   "metadata": {},
   "outputs": [],
   "source": [
    "#utils = rpackages.importr('utils')"
   ]
  },
  {
   "cell_type": "code",
   "execution_count": 3,
   "metadata": {},
   "outputs": [],
   "source": [
    "#utils.chooseCRANmirror(ind=1)"
   ]
  },
  {
   "cell_type": "code",
   "execution_count": 4,
   "metadata": {},
   "outputs": [],
   "source": [
    "#utils.install_packages('rugarch')"
   ]
  },
  {
   "cell_type": "markdown",
   "metadata": {},
   "source": [
    "## import packages"
   ]
  },
  {
   "cell_type": "code",
   "execution_count": 5,
   "metadata": {},
   "outputs": [],
   "source": [
    "# import packages after installed\n",
    "from rpy2.robjects.packages import importr"
   ]
  },
  {
   "cell_type": "code",
   "execution_count": 6,
   "metadata": {},
   "outputs": [],
   "source": [
    "rugarch = importr('rugarch')"
   ]
  },
  {
   "cell_type": "markdown",
   "metadata": {},
   "source": [
    "## model"
   ]
  },
  {
   "cell_type": "code",
   "execution_count": 7,
   "metadata": {},
   "outputs": [],
   "source": [
    "import pandas as pd\n",
    "import numpy as np"
   ]
  },
  {
   "cell_type": "code",
   "execution_count": null,
   "metadata": {},
   "outputs": [],
   "source": [
    "from rpy2.robjects import pandas2ri\n",
    "from rpy2.robjects import numpy2ri"
   ]
  },
  {
   "cell_type": "code",
   "execution_count": null,
   "metadata": {},
   "outputs": [],
   "source": [
    "import rpy2.robjects as ro "
   ]
  },
  {
   "cell_type": "code",
   "execution_count": 8,
   "metadata": {},
   "outputs": [],
   "source": [
    "fx = pd.read_csv('datasets/DEXUSEU.csv')"
   ]
  },
  {
   "cell_type": "code",
   "execution_count": 9,
   "metadata": {},
   "outputs": [
    {
     "data": {
      "text/html": [
       "<div>\n",
       "<style scoped>\n",
       "    .dataframe tbody tr th:only-of-type {\n",
       "        vertical-align: middle;\n",
       "    }\n",
       "\n",
       "    .dataframe tbody tr th {\n",
       "        vertical-align: top;\n",
       "    }\n",
       "\n",
       "    .dataframe thead th {\n",
       "        text-align: right;\n",
       "    }\n",
       "</style>\n",
       "<table border=\"1\" class=\"dataframe\">\n",
       "  <thead>\n",
       "    <tr style=\"text-align: right;\">\n",
       "      <th></th>\n",
       "      <th>observation_date</th>\n",
       "      <th>DEXUSEU</th>\n",
       "      <th>DAILY RETURN</th>\n",
       "    </tr>\n",
       "  </thead>\n",
       "  <tbody>\n",
       "    <tr>\n",
       "      <th>0</th>\n",
       "      <td>2018-01-17</td>\n",
       "      <td>1.2229</td>\n",
       "      <td>NaN</td>\n",
       "    </tr>\n",
       "    <tr>\n",
       "      <th>1</th>\n",
       "      <td>2018-01-18</td>\n",
       "      <td>1.2238</td>\n",
       "      <td>1.000736</td>\n",
       "    </tr>\n",
       "    <tr>\n",
       "      <th>2</th>\n",
       "      <td>2018-01-19</td>\n",
       "      <td>1.2238</td>\n",
       "      <td>1.000000</td>\n",
       "    </tr>\n",
       "    <tr>\n",
       "      <th>3</th>\n",
       "      <td>2018-01-22</td>\n",
       "      <td>1.2230</td>\n",
       "      <td>0.999346</td>\n",
       "    </tr>\n",
       "    <tr>\n",
       "      <th>4</th>\n",
       "      <td>2018-01-23</td>\n",
       "      <td>1.2277</td>\n",
       "      <td>1.003843</td>\n",
       "    </tr>\n",
       "    <tr>\n",
       "      <th>5</th>\n",
       "      <td>2018-01-24</td>\n",
       "      <td>1.2390</td>\n",
       "      <td>1.009204</td>\n",
       "    </tr>\n",
       "    <tr>\n",
       "      <th>6</th>\n",
       "      <td>2018-01-25</td>\n",
       "      <td>1.2488</td>\n",
       "      <td>1.007910</td>\n",
       "    </tr>\n",
       "    <tr>\n",
       "      <th>7</th>\n",
       "      <td>2018-01-26</td>\n",
       "      <td>1.2422</td>\n",
       "      <td>0.994715</td>\n",
       "    </tr>\n",
       "    <tr>\n",
       "      <th>8</th>\n",
       "      <td>2018-01-29</td>\n",
       "      <td>1.2352</td>\n",
       "      <td>0.994365</td>\n",
       "    </tr>\n",
       "    <tr>\n",
       "      <th>9</th>\n",
       "      <td>2018-01-30</td>\n",
       "      <td>1.2390</td>\n",
       "      <td>1.003076</td>\n",
       "    </tr>\n",
       "  </tbody>\n",
       "</table>\n",
       "</div>"
      ],
      "text/plain": [
       "  observation_date  DEXUSEU  DAILY RETURN\n",
       "0       2018-01-17   1.2229           NaN\n",
       "1       2018-01-18   1.2238      1.000736\n",
       "2       2018-01-19   1.2238      1.000000\n",
       "3       2018-01-22   1.2230      0.999346\n",
       "4       2018-01-23   1.2277      1.003843\n",
       "5       2018-01-24   1.2390      1.009204\n",
       "6       2018-01-25   1.2488      1.007910\n",
       "7       2018-01-26   1.2422      0.994715\n",
       "8       2018-01-29   1.2352      0.994365\n",
       "9       2018-01-30   1.2390      1.003076"
      ]
     },
     "execution_count": 9,
     "metadata": {},
     "output_type": "execute_result"
    }
   ],
   "source": [
    "fx.head(10)"
   ]
  },
  {
   "cell_type": "code",
   "execution_count": 10,
   "metadata": {},
   "outputs": [],
   "source": [
    "# get daily return\n",
    "fx = fx['DAILY RETURN'].dropna().values"
   ]
  },
  {
   "cell_type": "code",
   "execution_count": 12,
   "metadata": {
    "scrolled": true
   },
   "outputs": [],
   "source": [
    "# setting GARCH model\n",
    "garch = rugarch.ugarchspec(variance_model = ro.r('list(garchOrder = c(1, 1))'), \n",
    "                            mean_model = ro.r('list(armaOrder = c(0, 0))'))\n",
    "#use ro.r to write r-language"
   ]
  },
  {
   "cell_type": "code",
   "execution_count": 54,
   "metadata": {},
   "outputs": [],
   "source": [
    "numpy2ri.activate()\n",
    "pandas2ri.activate()\n",
    "#fit data to GARCH\n",
    "garch_fit = rugarch.ugarchfit(spec=garch, data=fx)"
   ]
  },
  {
   "cell_type": "code",
   "execution_count": 15,
   "metadata": {
    "scrolled": true
   },
   "outputs": [
    {
     "data": {
      "text/plain": [
       "R object with classes: ('uGARCHfit',) mapped to:\n",
       "<RS4 - Python:0x00000205F4E11748 / R:0x00000205EAE7BD50>"
      ]
     },
     "execution_count": 15,
     "metadata": {},
     "output_type": "execute_result"
    }
   ],
   "source": [
    "garch_fit"
   ]
  },
  {
   "cell_type": "code",
   "execution_count": 100,
   "metadata": {},
   "outputs": [],
   "source": [
    "# forecast\n",
    "garch_forecast = rugarch.ugarchforecast(garch_fit, n_ahead=15)"
   ]
  },
  {
   "cell_type": "code",
   "execution_count": 101,
   "metadata": {},
   "outputs": [
    {
     "name": "stdout",
     "output_type": "stream",
     "text": [
      "\n",
      "\r\n",
      "*------------------------------------*\n",
      "\r\n",
      "*       GARCH Model Forecast         *\n",
      "\r\n",
      "*------------------------------------*\n",
      "\r\n",
      "Model: sGARCH\n",
      "\r\n",
      "Horizon: 15\n",
      "\r\n",
      "Roll Steps: 0\n",
      "\r\n",
      "Out of Sample: 0\n",
      "\r\n",
      "\n",
      "\r\n",
      "0-roll forecast [T0=1970-09-07 07:00:00]:\n",
      "\r\n",
      "     Series    Sigma\n",
      "\r\n",
      "T+1  0.9997 0.003832\n",
      "\r\n",
      "T+2  0.9997 0.003831\n",
      "\r\n",
      "T+3  0.9997 0.003830\n",
      "\r\n",
      "T+4  0.9997 0.003829\n",
      "\r\n",
      "T+5  0.9997 0.003828\n",
      "\r\n",
      "T+6  0.9997 0.003827\n",
      "\r\n",
      "T+7  0.9997 0.003826\n",
      "\r\n",
      "T+8  0.9997 0.003825\n",
      "\r\n",
      "T+9  0.9997 0.003823\n",
      "\r\n",
      "T+10 0.9997 0.003822\n",
      "\r\n",
      "T+11 0.9997 0.003821\n",
      "\r\n",
      "T+12 0.9997 0.003820\n",
      "\r\n",
      "T+13 0.9997 0.003819\n",
      "\r\n",
      "T+14 0.9997 0.003818\n",
      "\r\n",
      "T+15 0.9997 0.003817\n",
      "\r\n",
      "\n",
      "\r\n",
      "\n",
      "\n"
     ]
    }
   ],
   "source": [
    "print(garch_forecast)"
   ]
  },
  {
   "cell_type": "code",
   "execution_count": 68,
   "metadata": {},
   "outputs": [
    {
     "data": {
      "text/html": [
       "\n",
       "    <span>StrVector with 2 elements.</span>\n",
       "    <table>\n",
       "      <tbody>\n",
       "      <tr>\n",
       "      \n",
       "      <td>\n",
       "        'fit'\n",
       "      </td>\n",
       "      \n",
       "      <td>\n",
       "        'model'\n",
       "      </td>\n",
       "      \n",
       "      </tr>\n",
       "      </tbody>\n",
       "    </table>\n",
       "    "
      ],
      "text/plain": [
       "R object with classes: ('character',) mapped to:\n",
       "<StrVector - Python:0x00000205D27A0788 / R:0x00000205EEB94468>\n",
       "['fit', 'model']"
      ]
     },
     "execution_count": 68,
     "metadata": {},
     "output_type": "execute_result"
    }
   ],
   "source": [
    "#check slot names\n",
    "ro.r.slotNames(garch_fit)"
   ]
  },
  {
   "cell_type": "code",
   "execution_count": 69,
   "metadata": {},
   "outputs": [
    {
     "data": {
      "text/html": [
       "\n",
       "    <span>StrVector with 2 elements.</span>\n",
       "    <table>\n",
       "      <tbody>\n",
       "      <tr>\n",
       "      \n",
       "      <td>\n",
       "        'forecast'\n",
       "      </td>\n",
       "      \n",
       "      <td>\n",
       "        'model'\n",
       "      </td>\n",
       "      \n",
       "      </tr>\n",
       "      </tbody>\n",
       "    </table>\n",
       "    "
      ],
      "text/plain": [
       "R object with classes: ('character',) mapped to:\n",
       "<StrVector - Python:0x00000205FDF28648 / R:0x00000205EEFD42A8>\n",
       "['forecast', 'model']"
      ]
     },
     "execution_count": 69,
     "metadata": {},
     "output_type": "execute_result"
    }
   ],
   "source": [
    "ro.r.slotNames(garch_forecast)"
   ]
  },
  {
   "cell_type": "code",
   "execution_count": 102,
   "metadata": {},
   "outputs": [
    {
     "data": {
      "text/html": [
       "\n",
       "    <span>ListVector with 6 elements.</span>\n",
       "    <table>\n",
       "      <tbody>\n",
       "      \n",
       "      <tr>\n",
       "      <th>\n",
       "        n.ahead\n",
       "      </th>\n",
       "      <td>\n",
       "        \n",
       "    <span>IntVector with 1 elements.</span>\n",
       "    <table>\n",
       "      <tbody>\n",
       "      <tr>\n",
       "      \n",
       "      <td>\n",
       "        15\n",
       "      </td>\n",
       "      \n",
       "      </tr>\n",
       "      </tbody>\n",
       "    </table>\n",
       "    \n",
       "      </td>\n",
       "      </tr>\n",
       "      \n",
       "      <tr>\n",
       "      <th>\n",
       "        N\n",
       "      </th>\n",
       "      <td>\n",
       "        \n",
       "    <span>FloatVector with 1 elements.</span>\n",
       "    <table>\n",
       "      <tbody>\n",
       "      <tr>\n",
       "      \n",
       "      <td>\n",
       "        249.000000\n",
       "      </td>\n",
       "      \n",
       "      </tr>\n",
       "      </tbody>\n",
       "    </table>\n",
       "    \n",
       "      </td>\n",
       "      </tr>\n",
       "      \n",
       "      <tr>\n",
       "      <th>\n",
       "        n.start\n",
       "      </th>\n",
       "      <td>\n",
       "        \n",
       "    <span>FloatVector with 1 elements.</span>\n",
       "    <table>\n",
       "      <tbody>\n",
       "      <tr>\n",
       "      \n",
       "      <td>\n",
       "        0.000000\n",
       "      </td>\n",
       "      \n",
       "      </tr>\n",
       "      </tbody>\n",
       "    </table>\n",
       "    \n",
       "      </td>\n",
       "      </tr>\n",
       "      \n",
       "      <tr>\n",
       "      <th>\n",
       "        n.roll\n",
       "      </th>\n",
       "      <td>\n",
       "        \n",
       "    <span>FloatVector with 1 elements.</span>\n",
       "    <table>\n",
       "      <tbody>\n",
       "      <tr>\n",
       "      \n",
       "      <td>\n",
       "        0.000000\n",
       "      </td>\n",
       "      \n",
       "      </tr>\n",
       "      </tbody>\n",
       "    </table>\n",
       "    \n",
       "      </td>\n",
       "      </tr>\n",
       "      \n",
       "      <tr>\n",
       "      <th>\n",
       "        sigmaFor\n",
       "      </th>\n",
       "      <td>\n",
       "        \n",
       "    <span>Matrix with 15 elements.</span>\n",
       "    <table>\n",
       "      <tbody>\n",
       "      <tr>\n",
       "      \n",
       "      <td>\n",
       "        0.003832\n",
       "      </td>\n",
       "      \n",
       "      <td>\n",
       "        0.003831\n",
       "      </td>\n",
       "      \n",
       "      <td>\n",
       "        0.003830\n",
       "      </td>\n",
       "      \n",
       "      <td>\n",
       "        0.003829\n",
       "      </td>\n",
       "      \n",
       "      <td>\n",
       "        ...\n",
       "      </td>\n",
       "      \n",
       "      <td>\n",
       "        0.003820\n",
       "      </td>\n",
       "      \n",
       "      <td>\n",
       "        0.003819\n",
       "      </td>\n",
       "      \n",
       "      <td>\n",
       "        0.003818\n",
       "      </td>\n",
       "      \n",
       "      <td>\n",
       "        0.003817\n",
       "      </td>\n",
       "      \n",
       "      </tr>\n",
       "      </tbody>\n",
       "    </table>\n",
       "    \n",
       "      </td>\n",
       "      </tr>\n",
       "      \n",
       "      <tr>\n",
       "      <th>\n",
       "        seriesFor\n",
       "      </th>\n",
       "      <td>\n",
       "        \n",
       "    <span>Matrix with 15 elements.</span>\n",
       "    <table>\n",
       "      <tbody>\n",
       "      <tr>\n",
       "      \n",
       "      <td>\n",
       "        0.999726\n",
       "      </td>\n",
       "      \n",
       "      <td>\n",
       "        0.999726\n",
       "      </td>\n",
       "      \n",
       "      <td>\n",
       "        0.999726\n",
       "      </td>\n",
       "      \n",
       "      <td>\n",
       "        0.999726\n",
       "      </td>\n",
       "      \n",
       "      <td>\n",
       "        ...\n",
       "      </td>\n",
       "      \n",
       "      <td>\n",
       "        0.999726\n",
       "      </td>\n",
       "      \n",
       "      <td>\n",
       "        0.999726\n",
       "      </td>\n",
       "      \n",
       "      <td>\n",
       "        0.999726\n",
       "      </td>\n",
       "      \n",
       "      <td>\n",
       "        0.999726\n",
       "      </td>\n",
       "      \n",
       "      </tr>\n",
       "      </tbody>\n",
       "    </table>\n",
       "    \n",
       "      </td>\n",
       "      </tr>\n",
       "      \n",
       "      </tbody>\n",
       "    </table>\n",
       "    "
      ],
      "text/plain": [
       "R object with classes: ('list',) mapped to:\n",
       "<ListVector - Python:0x0000020585A5D348 / R:0x00000205F8F689A8>\n",
       "[IntVe..., Float..., Float..., Float..., Matrix, Matrix]\n",
       "  n.ahead: <class 'rpy2.robjects.vectors.IntVector'>\n",
       "  R object with classes: ('integer',) mapped to:\n",
       "<IntVector - Python:0x0000020585FB3508 / R:0x00000205F81E1EC8>\n",
       "[15]\n",
       "  N: <class 'rpy2.robjects.vectors.FloatVector'>\n",
       "  R object with classes: ('numeric',) mapped to:\n",
       "<FloatVector - Python:0x0000020585FF6688 / R:0x00000205F83D4C58>\n",
       "[249.000000]\n",
       "  n.start: <class 'rpy2.robjects.vectors.FloatVector'>\n",
       "  R object with classes: ('numeric',) mapped to:\n",
       "<FloatVector - Python:0x0000020585FB3708 / R:0x00000205F11F6498>\n",
       "[0.000000]\n",
       "  n.roll: <class 'rpy2.robjects.vectors.FloatVector'>\n",
       "  R object with classes: ('numeric',) mapped to:\n",
       "<FloatVector - Python:0x0000020585C94788 / R:0x00000205F0BEA490>\n",
       "[0.000000]\n",
       "  sigmaFor: <class 'rpy2.robjects.vectors.Matrix'>\n",
       "  R object with classes: ('matrix',) mapped to:\n",
       "<Matrix - Python:0x0000020585FF6648 / R:0x0000020586692EB0>\n",
       "[0.003832, 0.003831, 0.003830, 0.003829, ..., 0.003820, 0.003819, 0.003818, 0.003817]\n",
       "  seriesFor: <class 'rpy2.robjects.vectors.Matrix'>\n",
       "  R object with classes: ('matrix',) mapped to:\n",
       "<Matrix - Python:0x00000205860A52C8 / R:0x0000020586692E00>\n",
       "[0.999726, 0.999726, 0.999726, 0.999726, ..., 0.999726, 0.999726, 0.999726, 0.999726]"
      ]
     },
     "execution_count": 102,
     "metadata": {},
     "output_type": "execute_result"
    }
   ],
   "source": [
    "garch_forecast.slots['forecast']"
   ]
  },
  {
   "cell_type": "code",
   "execution_count": 104,
   "metadata": {},
   "outputs": [
    {
     "data": {
      "text/html": [
       "\n",
       "    <span>Matrix with 15 elements.</span>\n",
       "    <table>\n",
       "      <tbody>\n",
       "      <tr>\n",
       "      \n",
       "      <td>\n",
       "        0.999726\n",
       "      </td>\n",
       "      \n",
       "      <td>\n",
       "        0.999726\n",
       "      </td>\n",
       "      \n",
       "      <td>\n",
       "        0.999726\n",
       "      </td>\n",
       "      \n",
       "      <td>\n",
       "        0.999726\n",
       "      </td>\n",
       "      \n",
       "      <td>\n",
       "        ...\n",
       "      </td>\n",
       "      \n",
       "      <td>\n",
       "        0.999726\n",
       "      </td>\n",
       "      \n",
       "      <td>\n",
       "        0.999726\n",
       "      </td>\n",
       "      \n",
       "      <td>\n",
       "        0.999726\n",
       "      </td>\n",
       "      \n",
       "      <td>\n",
       "        0.999726\n",
       "      </td>\n",
       "      \n",
       "      </tr>\n",
       "      </tbody>\n",
       "    </table>\n",
       "    "
      ],
      "text/plain": [
       "R object with classes: ('matrix',) mapped to:\n",
       "<Matrix - Python:0x000002058636AA08 / R:0x0000020586692E00>\n",
       "[0.999726, 0.999726, 0.999726, 0.999726, ..., 0.999726, 0.999726, 0.999726, 0.999726]"
      ]
     },
     "execution_count": 104,
     "metadata": {},
     "output_type": "execute_result"
    }
   ],
   "source": [
    "# retreive forecasted value\n",
    "garch_forecast.slots['forecast'][5] #followed by index"
   ]
  },
  {
   "cell_type": "code",
   "execution_count": 105,
   "metadata": {},
   "outputs": [
    {
     "data": {
      "text/html": [
       "\n",
       "    <span>Matrix with 15 elements.</span>\n",
       "    <table>\n",
       "      <tbody>\n",
       "      <tr>\n",
       "      \n",
       "      <td>\n",
       "        0.999726\n",
       "      </td>\n",
       "      \n",
       "      <td>\n",
       "        0.999726\n",
       "      </td>\n",
       "      \n",
       "      <td>\n",
       "        0.999726\n",
       "      </td>\n",
       "      \n",
       "      <td>\n",
       "        0.999726\n",
       "      </td>\n",
       "      \n",
       "      <td>\n",
       "        ...\n",
       "      </td>\n",
       "      \n",
       "      <td>\n",
       "        0.999726\n",
       "      </td>\n",
       "      \n",
       "      <td>\n",
       "        0.999726\n",
       "      </td>\n",
       "      \n",
       "      <td>\n",
       "        0.999726\n",
       "      </td>\n",
       "      \n",
       "      <td>\n",
       "        0.999726\n",
       "      </td>\n",
       "      \n",
       "      </tr>\n",
       "      </tbody>\n",
       "    </table>\n",
       "    "
      ],
      "text/plain": [
       "R object with classes: ('matrix',) mapped to:\n",
       "<Matrix - Python:0x0000020585AB1F48 / R:0x0000020586692E00>\n",
       "[0.999726, 0.999726, 0.999726, 0.999726, ..., 0.999726, 0.999726, 0.999726, 0.999726]"
      ]
     },
     "execution_count": 105,
     "metadata": {},
     "output_type": "execute_result"
    }
   ],
   "source": [
    "garch_forecast.slots['forecast'].rx2('seriesFor') #use rx2 to indicate name"
   ]
  },
  {
   "cell_type": "code",
   "execution_count": 103,
   "metadata": {},
   "outputs": [
    {
     "data": {
      "text/plain": [
       "array([0.99972634, 0.99972634, 0.99972634, 0.99972634, 0.99972634,\n",
       "       0.99972634, 0.99972634, 0.99972634, 0.99972634, 0.99972634,\n",
       "       0.99972634, 0.99972634, 0.99972634, 0.99972634, 0.99972634])"
      ]
     },
     "execution_count": 103,
     "metadata": {},
     "output_type": "execute_result"
    }
   ],
   "source": [
    "#convert forecasted values to numpy array\n",
    "np.array(garch_forecast.slots['forecast'][5]).flatten() #flatten() -> make it 1-dimension"
   ]
  },
  {
   "cell_type": "code",
   "execution_count": null,
   "metadata": {},
   "outputs": [],
   "source": []
  }
 ],
 "metadata": {
  "kernelspec": {
   "display_name": "Python 3",
   "language": "python",
   "name": "python3"
  },
  "language_info": {
   "codemirror_mode": {
    "name": "ipython",
    "version": 3
   },
   "file_extension": ".py",
   "mimetype": "text/x-python",
   "name": "python",
   "nbconvert_exporter": "python",
   "pygments_lexer": "ipython3",
   "version": "3.7.7"
  }
 },
 "nbformat": 4,
 "nbformat_minor": 4
}
